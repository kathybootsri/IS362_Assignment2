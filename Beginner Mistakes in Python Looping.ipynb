{
 "cells": [
  {
   "cell_type": "markdown",
   "metadata": {},
   "source": [
    "# The Common Beginner Mistakes with Looping in Python\n",
    "\n",
    "## Understand What Is Iterable\n",
    "## Examples of What Is Iterable and What Will Cause Exceptions\n",
    "## Understand What Are You Iterating in the Value"
   ]
  },
  {
   "cell_type": "markdown",
   "metadata": {},
   "source": [
    "### Introduction\n",
    "\n",
    "When I began learning about looping in Python, it was initially very difficult to understand because I was use to doing tasks through SQL, which frequently is a query to return results, insert data into a database or perform other database-specific tasks one time, not repeatedly, and especially not repeating based on another list of factors. The concept of repeating the same tasks to work more efficiently was appealing, but it was initially hard to wrap my head around, probably because I tried to tackle the concept of looping before truly grasping what can be iterated (what can be used as a sequence to repeat the loop). Putting two and two together was a disconnect for me, for example, learning about tuples and lists. I did not then further apply that knowledge to know how to truly grasp types that can be iterated. So let's begin with some essential common mistakes and overlooked concepts in the context of loops."
   ]
  },
  {
   "cell_type": "markdown",
   "metadata": {},
   "source": [
    "## Understand What Is Iterable\n",
    "There are certain datatypes that are iterable, while others are not, for example:\n",
    "\n",
    "| Can't Iterate This        | But You Can Iterate This   | Example Reference |\n",
    "| :------------------------ |:--------------------------|:------------------|\n",
    "| integers                  | ranges of integers        | Example 1, 2      |\n"
   ]
  },
  {
   "cell_type": "markdown",
   "metadata": {},
   "source": [
    "### Example 1: Ranges Not Integers\n",
    "The first example will show that when looping integers, it will result in an exception TypeError: 'int' object is not iterable."
   ]
  },
  {
   "cell_type": "code",
   "execution_count": 2,
   "metadata": {},
   "outputs": [
    {
     "ename": "TypeError",
     "evalue": "'int' object is not iterable",
     "output_type": "error",
     "traceback": [
      "\u001b[1;31m---------------------------------------------------------------------------\u001b[0m",
      "\u001b[1;31mTypeError\u001b[0m                                 Traceback (most recent call last)",
      "\u001b[1;32m<ipython-input-2-06a66ccad9a2>\u001b[0m in \u001b[0;36m<module>\u001b[1;34m\u001b[0m\n\u001b[1;32m----> 1\u001b[1;33m \u001b[1;32mfor\u001b[0m \u001b[0mx\u001b[0m \u001b[1;32min\u001b[0m \u001b[1;36m5\u001b[0m\u001b[1;33m:\u001b[0m\u001b[1;33m\u001b[0m\u001b[1;33m\u001b[0m\u001b[0m\n\u001b[0m\u001b[0;32m      2\u001b[0m     \u001b[0mprint\u001b[0m\u001b[1;33m(\u001b[0m\u001b[0mx\u001b[0m\u001b[1;33m)\u001b[0m\u001b[1;33m\u001b[0m\u001b[1;33m\u001b[0m\u001b[0m\n",
      "\u001b[1;31mTypeError\u001b[0m: 'int' object is not iterable"
     ]
    }
   ],
   "source": [
    "for x in 5:\n",
    "    print(x)"
   ]
  },
  {
   "cell_type": "markdown",
   "metadata": {},
   "source": [
    "Instead, always apply ranges to integers. "
   ]
  },
  {
   "cell_type": "code",
   "execution_count": 3,
   "metadata": {},
   "outputs": [
    {
     "name": "stdout",
     "output_type": "stream",
     "text": [
      "0\n",
      "1\n",
      "2\n",
      "3\n",
      "4\n"
     ]
    }
   ],
   "source": [
    "for x in range(5):\n",
    "    print(x)"
   ]
  },
  {
   "cell_type": "markdown",
   "metadata": {},
   "source": [
    "### Example 2: Another Example of Ranges Not Integers\n",
    "The second example is a different version of what __*should*__ appear as a range, but it's still an integer and will provide a exception TypeError: 'int' object is not iterable."
   ]
  },
  {
   "cell_type": "code",
   "execution_count": 4,
   "metadata": {},
   "outputs": [
    {
     "ename": "TypeError",
     "evalue": "'int' object is not iterable",
     "output_type": "error",
     "traceback": [
      "\u001b[1;31m---------------------------------------------------------------------------\u001b[0m",
      "\u001b[1;31mTypeError\u001b[0m                                 Traceback (most recent call last)",
      "\u001b[1;32m<ipython-input-4-768efe0ded3a>\u001b[0m in \u001b[0;36m<module>\u001b[1;34m\u001b[0m\n\u001b[0;32m      1\u001b[0m \u001b[0mstudents\u001b[0m \u001b[1;33m=\u001b[0m \u001b[1;33m[\u001b[0m\u001b[1;34m\"Marky\"\u001b[0m\u001b[1;33m,\u001b[0m \u001b[1;34m\"Lisa\"\u001b[0m\u001b[1;33m]\u001b[0m\u001b[1;33m\u001b[0m\u001b[1;33m\u001b[0m\u001b[0m\n\u001b[0;32m      2\u001b[0m \u001b[1;33m\u001b[0m\u001b[0m\n\u001b[1;32m----> 3\u001b[1;33m \u001b[1;32mfor\u001b[0m \u001b[0mx\u001b[0m \u001b[1;32min\u001b[0m \u001b[0mlen\u001b[0m\u001b[1;33m(\u001b[0m\u001b[0mstudents\u001b[0m\u001b[1;33m)\u001b[0m\u001b[1;33m:\u001b[0m\u001b[1;33m\u001b[0m\u001b[1;33m\u001b[0m\u001b[0m\n\u001b[0m\u001b[0;32m      4\u001b[0m     \u001b[0mprint\u001b[0m\u001b[1;33m(\u001b[0m\u001b[0mx\u001b[0m\u001b[1;33m)\u001b[0m\u001b[1;33m\u001b[0m\u001b[1;33m\u001b[0m\u001b[0m\n",
      "\u001b[1;31mTypeError\u001b[0m: 'int' object is not iterable"
     ]
    }
   ],
   "source": [
    "students = [\"Marky\", \"Lisa\"]\n",
    "\n",
    "for x in len(students):\n",
    "    print(x)"
   ]
  },
  {
   "cell_type": "markdown",
   "metadata": {},
   "source": [
    "However, if we check the output of len(students), we will see it is still an integer (a total of values in the list)."
   ]
  },
  {
   "cell_type": "code",
   "execution_count": 5,
   "metadata": {},
   "outputs": [
    {
     "name": "stdout",
     "output_type": "stream",
     "text": [
      "2\n"
     ]
    }
   ],
   "source": [
    "students = [\"Marky\", \"Lisa\"]\n",
    "\n",
    "print(len(students))"
   ]
  },
  {
   "cell_type": "markdown",
   "metadata": {},
   "source": [
    "Again, integers are not iterable! Ranges are iterable, so we would have to convert the integer output as a range."
   ]
  },
  {
   "cell_type": "code",
   "execution_count": 6,
   "metadata": {},
   "outputs": [
    {
     "name": "stdout",
     "output_type": "stream",
     "text": [
      "0\n",
      "1\n"
     ]
    }
   ],
   "source": [
    "students = [\"Marky\", \"Lisa\"]\n",
    "\n",
    "\n",
    "for x in range(len(students)):\n",
    "    print(x)"
   ]
  },
  {
   "cell_type": "markdown",
   "metadata": {},
   "source": [
    "### Know What You Are Looping in the Value\n",
    "The second part that took some practice for me was understanding what can be looped. What am I looping when I write \"for x in whatever\"? Here are some examples of what is being iterated for certain types:\n",
    "\n",
    "| Iterable Type             | Can Iterates This         | Example Reference |\n",
    "| :------------------------ |:--------------------------|:------------------|\n",
    "| string                    | letter in the string      | Example 3         | \n",
    "| ranges                    | each value in the range   | Example 4         | \n",
    "| dictionary                | key                       | Example 5         |\n",
    "| dataframe                 | columns, rows             | Example 5         |\n",
    "| list, tuples              | item in your list or tuple|                   | \n"
   ]
  },
  {
   "cell_type": "markdown",
   "metadata": {},
   "source": [
    "__Example 3: String:__ An example a string is below, which uses an installed string from the *string* module, which can be used to apply a loop for columns in a sheet of a workbook (Excel file) (i.e. make each column up to the 14th column a width 30). The code iterates through each letter of the string up to the 14th letter of the alphabet. "
   ]
  },
  {
   "cell_type": "code",
   "execution_count": 7,
   "metadata": {},
   "outputs": [
    {
     "name": "stdout",
     "output_type": "stream",
     "text": [
      "A\n",
      "B\n",
      "C\n",
      "D\n",
      "E\n",
      "F\n",
      "G\n",
      "H\n",
      "I\n",
      "J\n",
      "K\n",
      "L\n",
      "M\n",
      "N\n"
     ]
    }
   ],
   "source": [
    "from string import ascii_uppercase\n",
    "\n",
    "for x in ascii_uppercase[:14]:\n",
    "    print(x)"
   ]
  },
  {
   "cell_type": "markdown",
   "metadata": {},
   "source": [
    "__Example 4: Range:__ In a range of numbers, it runs through each number. Below is an example of a dynamic range, which can be used to loop through creating a statement for each month of the current quarter (but currently only prints the numerical month value of the current quarter). "
   ]
  },
  {
   "cell_type": "code",
   "execution_count": 9,
   "metadata": {},
   "outputs": [
    {
     "name": "stdout",
     "output_type": "stream",
     "text": [
      "3\n",
      "2\n",
      "1\n"
     ]
    }
   ],
   "source": [
    "import math\n",
    "import pandas as pd\n",
    "import datetime\n",
    "\n",
    "date = datetime.date.today()\n",
    "last_month_delta = datetime.timedelta(days=-30)\n",
    "last_month = date + last_month_delta\n",
    "quarter = pd.Timestamp(last_month).quarter\n",
    "month_in_qtr = 3\n",
    "month = month_in_qtr * quarter\n",
    "\n",
    "for x in range(month, 0, -1):\n",
    "    if math.ceil(x/3) == quarter:\n",
    "        print(x)"
   ]
  },
  {
   "cell_type": "markdown",
   "metadata": {},
   "source": [
    "__Example 5: Dictionaries/Dataframes:__ Dictionaries and dataframes are iterable, but they have a slight difference when iterating them. In dictionaries, the loop defaults its iteration to keys, even when applying the len. For example, let's iterate the dictionary version of the example dataset first."
   ]
  },
  {
   "cell_type": "code",
   "execution_count": 10,
   "metadata": {},
   "outputs": [
    {
     "name": "stdout",
     "output_type": "stream",
     "text": [
      "col1\n",
      "col2\n",
      "0\n",
      "1\n"
     ]
    }
   ],
   "source": [
    "dict = {'col1': [1, 2, 3, 4], 'col2': [5, 6, 7, 8]}\n",
    "\n",
    "for x in dict:\n",
    "    print (x)\n",
    "\n",
    "for x in range(len(dict)):\n",
    "    print(x)"
   ]
  },
  {
   "cell_type": "markdown",
   "metadata": {},
   "source": [
    "Dictionaries can be converted into a more organized fashion as dataframes (like Excel spreadsheets but for Python). However, when converting them to a dataframe using the pandas module, we can refer to either the column or the row, since now it can be  treated as a grid of data. Below is how the same data appears as a dataframe (the first column with no header is an index that appears by default but we'll keep it for illustration purposes of counting rows)."
   ]
  },
  {
   "cell_type": "code",
   "execution_count": 23,
   "metadata": {},
   "outputs": [
    {
     "name": "stdout",
     "output_type": "stream",
     "text": [
      "   col1  col2\n",
      "0     1     5\n",
      "1     2     6\n",
      "2     3     7\n",
      "3     4     8\n"
     ]
    }
   ],
   "source": [
    "import pandas as pd\n",
    "\n",
    "dict = {'col1': [1, 2, 3, 4], 'col2': [5, 6, 7, 8]}\n",
    "\n",
    "df =pd.DataFrame(dict)\n",
    "\n",
    "print(df)"
   ]
  },
  {
   "cell_type": "markdown",
   "metadata": {},
   "source": [
    "Now let's  iterate the dictionary two different ways: by column headers and by row number."
   ]
  },
  {
   "cell_type": "code",
   "execution_count": 21,
   "metadata": {},
   "outputs": [
    {
     "name": "stdout",
     "output_type": "stream",
     "text": [
      "\n",
      "Iterating the dataframe loops through the column names: \n",
      "col1\n",
      "col2\n",
      "\n",
      "Iterating through the length of the dataframe iterates through rows (starting with 0): \n",
      "0\n",
      "1\n",
      "2\n",
      "3\n"
     ]
    }
   ],
   "source": [
    "import pandas as pd\n",
    "\n",
    "dict = {'col1': [1, 2, 3, 4], 'col2': [5, 6, 7, 8]}\n",
    "\n",
    "print('\\nIterating the dataframe loops through the column names: ') \n",
    "for x in df:\n",
    "    print (x)\n",
    "\n",
    "print('\\nIterating through the length of the dataframe iterates through rows (starting with 0): ') \n",
    "for x in range(len(df)):\n",
    "    print(x)"
   ]
  },
  {
   "cell_type": "markdown",
   "metadata": {},
   "source": [
    "__In Conclusion:__ Understanding loops is a matter of understanding that not all ata types are iterable, finding the function that makes it iterable and the understanding what can be iterated from the value. "
   ]
  },
  {
   "cell_type": "code",
   "execution_count": null,
   "metadata": {},
   "outputs": [],
   "source": []
  }
 ],
 "metadata": {
  "kernelspec": {
   "display_name": "Python 3",
   "language": "python",
   "name": "python3"
  },
  "language_info": {
   "codemirror_mode": {
    "name": "ipython",
    "version": 3
   },
   "file_extension": ".py",
   "mimetype": "text/x-python",
   "name": "python",
   "nbconvert_exporter": "python",
   "pygments_lexer": "ipython3",
   "version": "3.7.4"
  }
 },
 "nbformat": 4,
 "nbformat_minor": 2
}
